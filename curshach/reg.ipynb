{
 "cells": [
  {
   "cell_type": "code",
   "execution_count": 4,
   "metadata": {},
   "outputs": [
    {
     "name": "stdout",
     "output_type": "stream",
     "text": [
      "<class 'pandas.core.frame.DataFrame'>\n",
      "RangeIndex: 213 entries, 0 to 212\n",
      "Data columns (total 8 columns):\n",
      " #   Column           Non-Null Count  Dtype  \n",
      "---  ------           --------------  -----  \n",
      " 0   country_name     213 non-null    object \n",
      " 1   year             213 non-null    int64  \n",
      " 2   gdp              213 non-null    float64\n",
      " 3   social_support   213 non-null    float64\n",
      " 4   freedom          213 non-null    float64\n",
      " 5   trust            213 non-null    float64\n",
      " 6   generosity       213 non-null    float64\n",
      " 7   happiness_score  213 non-null    float64\n",
      "dtypes: float64(6), int64(1), object(1)\n",
      "memory usage: 13.4+ KB\n",
      "None\n",
      "                      gdp  social_support   freedom     trust  generosity  happiness_score\n",
      "gdp              1.000000        0.303825  0.304592  0.515276    0.188318         0.679889\n",
      "social_support   0.303825        1.000000  0.372269  0.225077    0.033404         0.465098\n",
      "freedom          0.304592        0.372269  1.000000  0.571860    0.433534         0.605042\n",
      "trust            0.515276        0.225077  0.571860  1.000000    0.427278         0.682255\n",
      "generosity       0.188318        0.033404  0.433534  0.427278    1.000000         0.377913\n",
      "happiness_score  0.679889        0.465098  0.605042  0.682255    0.377913         1.000000\n"
     ]
    },
    {
     "data": {
      "text/plain": [
       "<AxesSubplot:>"
      ]
     },
     "execution_count": 4,
     "metadata": {},
     "output_type": "execute_result"
    },
    {
     "data": {
      "image/png": "[encoded data removed]",
      "text/plain": [
       "<Figure size 640x480 with 1 Axes>"
      ]
     },
     "metadata": {},
     "output_type": "display_data"
    }
   ],
   "source": [
    "import numpy as np\n",
    "import pandas as pd\n",
    "from matplotlib import pyplot as plt\n",
    "from matplotlib.pyplot import show\n",
    "from scipy import stats\n",
    "from sklearn.linear_model import LinearRegression\n",
    "from sklearn.metrics import r2_score\n",
    "from sklearn.model_selection import train_test_split\n",
    "from sklearn.pipeline import make_pipeline\n",
    "from sklearn.preprocessing import PolynomialFeatures\n",
    "\n",
    "# configurations\n",
    "pd.options.display.max_rows = 1000\n",
    "pd.options.display.max_columns = 1000\n",
    "pd.set_option('display.expand_frame_repr', False)\n",
    "\n",
    "\n",
    "def regression(x, y, max_degree):\n",
    "    Xtrain, Xtest, Ytrain, Ytest = train_test_split(x, y, test_size=0.3, random_state=4)\n",
    "    reg = make_pipeline(PolynomialFeatures(degree=max_degree), LinearRegression())\n",
    "    reg.fit(Xtrain, Ytrain)\n",
    "    Ypredicted = []\n",
    "    for i in range(0, Xtest.__len__()):\n",
    "        Ypredicted.append(reg.predict([Xtest[i]])[0])\n",
    "\n",
    "    R2 = r2_score(Ytest, Ypredicted)\n",
    "\n",
    "    coef = reg['linearregression'].coef_\n",
    "    w0 = reg['linearregression'].intercept_\n",
    "    return coef, w0, R2, reg\n",
    "\n",
    "\n",
    "def main_work(df):\n",
    "    x = []\n",
    "    for i in range(0, df.__len__()):\n",
    "        tmp = df.loc[i].to_numpy()\n",
    "        tmp = np.delete(tmp, df.columns.size - 1, 0)\n",
    "        x.append(tmp)\n",
    "    y = df['happiness_score'].to_numpy()\n",
    "\n",
    "    coef, w0, R2, reg = regression(x, y, 1)\n",
    "    print('degree 1: ', R2)\n",
    "\n",
    "    printProjection(df, reg, 'gdp', 1000)\n",
    "    printProjection(df, reg, 'trust', 1000)\n",
    "    printProjection(df, reg, 'social_support', 1000)\n",
    "    printProjection(df, reg, 'freedom', 1000)\n",
    "    printProjection(df, reg, 'generosity', 1000)\n",
    "    pass\n",
    "\n",
    "\n",
    "def printProjection(df, regression, argument_name, detalization):\n",
    "    xReg = []\n",
    "\n",
    "    argument_position = df.columns.tolist().index(argument_name)\n",
    "    max_value = df[argument_name].max()\n",
    "    step = max_value / detalization\n",
    "    arg_value = 0\n",
    "    while arg_value <= max_value:\n",
    "        tmp = [0, 0, 0, 0, 0]\n",
    "        tmp[argument_position] = arg_value\n",
    "        xReg.append(tmp)\n",
    "        arg_value += step\n",
    "\n",
    "    plt.figure(figsize=(5, 5))\n",
    "    plt.title('Regression')\n",
    "    plt.xlabel(argument_name)\n",
    "    plt.ylabel('happiness')\n",
    "    plt.grid(linestyle='--')\n",
    "\n",
    "    plt.plot(np.linspace(0, max_value, len(xReg)).reshape(-1, 1), regression.predict(xReg), color='red')\n",
    "    plt.scatter(df[argument_name].to_numpy(), df['happiness_score'])\n",
    "\n",
    "    plt.show()\n",
    "    pass\n",
    "\n",
    "\n",
    "# program\n",
    "df = pd.read_csv('../data/main_view.csv', sep=',', decimal='.')\n",
    "\n",
    "df.info()\n",
    "\n",
    "df.drop(columns=['country_name', 'year'], inplace=True)\n",
    "\n",
    "print(df.corr())\n",
    "\n",
    "\n",
    "df.boxplot(column=['gdp'])\n",
    "#main_work(df)\n"
   ]
  }
 ],
 "metadata": {
  "kernelspec": {
   "display_name": "Python 3.9.11 64-bit",
   "language": "python",
   "name": "python3"
  },
  "language_info": {
   "codemirror_mode": {
    "name": "ipython",
    "version": 3
   },
   "file_extension": ".py",
   "mimetype": "text/x-python",
   "name": "python",
   "nbconvert_exporter": "python",
   "pygments_lexer": "ipython3",
   "version": "3.9.11"
  },
  "orig_nbformat": 4,
  "vscode": {
   "interpreter": {
    "hash": "c25269a4018224bb4e3cb6b79397037e31419b0dedc1b97e47175df2e08dbf7b"
   }
  }
 },
 "nbformat": 4,
 "nbformat_minor": 2
}
